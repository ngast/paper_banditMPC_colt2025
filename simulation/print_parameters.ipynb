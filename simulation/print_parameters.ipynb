{
 "cells": [
  {
   "cell_type": "markdown",
   "id": "2c48452f-4fc1-468b-a201-e7b8946b1ec7",
   "metadata": {},
   "source": [
    "# Model predictive control is almost optimal for restless bandits: parameters\n",
    "\n",
    "This notebook contains all the code to \"pretty-print\" the parameters of the problems used for the figures."
   ]
  },
  {
   "cell_type": "code",
   "execution_count": 1,
   "id": "98e599ea-5aa1-47ef-bec1-cf2938f3aabf",
   "metadata": {},
   "outputs": [],
   "source": [
    "import numpy as np\n",
    "import bandit_lp\n",
    "import strategies"
   ]
  },
  {
   "cell_type": "code",
   "execution_count": 15,
   "id": "f22f2850-8a05-4fbe-88ef-fdfac994e600",
   "metadata": {},
   "outputs": [],
   "source": [
    "def print_bandit(bandit, alpha=0.5):\n",
    "    bandit.print_latex()\n",
    "    strat = strategies.LPPriorityStragegy(bandit, alpha=alpha)\n",
    "    for i in  strat.lp_index: \n",
    "        print(bandit_lp.float_to_str(i), end=' , ')\n",
    "    print('\\n order=', strat.order_of_states)\n",
    "    print(\"relaxed-value = \", bandit.relaxed_lp_average_reward(alpha)[0])"
   ]
  },
  {
   "cell_type": "code",
   "execution_count": 16,
   "id": "345ac94d-abe2-4b1f-bb54-85de665fa35d",
   "metadata": {},
   "outputs": [
    {
     "name": "stdout",
     "output_type": "stream",
     "text": [
      "\\begin{align*}\n",
      "    P^{ 0 }=\\left(\n",
      "    \\begin{array}{cccccccc}\n",
      "       1 & & & & & & & \\\\\n",
      "       1 & & & & & & & \\\\\n",
      "        &0.48 &0.52 & & & & & \\\\\n",
      "        & &0.47 &0.53 & & & & \\\\\n",
      "        & & & &0.9 &0.1 & & \\\\\n",
      "        & & & & &0.9 &0.1 & \\\\\n",
      "        & & & & & &0.9 &0.1 \\\\\n",
      "       0.1 & & & & & & &0.9 \\\\\n",
      "    \\end{array}\\right)\n",
      "\\end{align*}\n",
      "\n",
      "R^{ 0 } = , , , , , , , 0.1,\n",
      "\n",
      "\\begin{align*}\n",
      "    P^{ 1 }=\\left(\n",
      "    \\begin{array}{cccccccc}\n",
      "       0.9 &0.1 & & & & & & \\\\\n",
      "        &0.9 &0.1 & & & & & \\\\\n",
      "        & &0.9 &0.1 & & & & \\\\\n",
      "        & & &0.9 &0.1 & & & \\\\\n",
      "        & & &0.46 &0.54 & & & \\\\\n",
      "        & & & &0.45 &0.55 & & \\\\\n",
      "        & & & & &0.44 &0.56 & \\\\\n",
      "        & & & & & &0.43 &0.57 \\\\\n",
      "    \\end{array}\\right)\n",
      "\\end{align*}\n",
      "\n",
      "R^{ 1 } = , , , , , , , ,\n",
      "\n",
      "0.025 , 0.025 , 0.025 , 0.025 ,  , -0.113 , -0.110 , -0.108 , \n",
      " order= [1 2 0 3 4 7 6 5]\n",
      "relaxed-value =  0.0125\n"
     ]
    }
   ],
   "source": [
    "print_bandit(bandit_lp.BanditCounterExample())\n",
    "    "
   ]
  },
  {
   "cell_type": "code",
   "execution_count": 18,
   "id": "eb60053f-3442-4e5b-a901-5e1af9f08816",
   "metadata": {},
   "outputs": [
    {
     "name": "stdout",
     "output_type": "stream",
     "text": [
      "\\begin{align*}\n",
      "    P^{ 0 }=\\left(\n",
      "    \\begin{array}{ccc}\n",
      "       0.022 &0.102 &0.875 \\\\\n",
      "       0.034 &0.172 &0.794 \\\\\n",
      "       0.523 &0.455 &0.022 \\\\\n",
      "    \\end{array}\\right)\n",
      "\\end{align*}\n",
      "\n",
      "R^{ 0 } = , , ,\n",
      "\n",
      "\\begin{align*}\n",
      "    P^{ 1 }=\\left(\n",
      "    \\begin{array}{ccc}\n",
      "       0.149 &0.304 &0.547 \\\\\n",
      "       0.568 &0.411 &0.020 \\\\\n",
      "       0.253 &0.273 &0.474 \\\\\n",
      "    \\end{array}\\right)\n",
      "\\end{align*}\n",
      "\n",
      "R^{ 1 } = 0.374, 0.117, 0.079,\n",
      "\n",
      "0.199 , -0.000 , -0.133 , \n",
      " order= [0 1 2]\n",
      "relaxed-value =  0.12380017120322259\n"
     ]
    }
   ],
   "source": [
    "print_bandit(bandit_lp.BanditCounterExampleYan2(), alpha=0.4)\n"
   ]
  },
  {
   "cell_type": "code",
   "execution_count": 13,
   "id": "3747620d-750b-438a-b713-a34c86b2098a",
   "metadata": {},
   "outputs": [
    {
     "name": "stdout",
     "output_type": "stream",
     "text": [
      "\\begin{align*}\n",
      "    P^{ 0 }=\\left(\n",
      "    \\begin{array}{cccccccc}\n",
      "       0.101 &0.155 &0.043 &0.090 &0.281 &0.285 &0.017 &0.029 \\\\\n",
      "       0.006 &0.207 &0.076 &0.136 &0.085 &0.299 &0.147 &0.043 \\\\\n",
      "       0.317 &0.254 &0.065 &0.013 &0.144 &0.111 &0.061 &0.035 \\\\\n",
      "       0.098 &0.183 &0.069 &0.068 &0.218 &0.028 &0.200 &0.136 \\\\\n",
      "       0.053 &0.080 &0.009 &0.038 &0.483 &0.036 &0.159 &0.143 \\\\\n",
      "       0.018 &0.105 &0.027 &0.397 &0.150 &0.102 &0.161 &0.040 \\\\\n",
      "       0.110 &0.050 &0.088 &0.024 &0.023 &0.142 &0.169 &0.393 \\\\\n",
      "       0.055 &0.043 &0.017 &0.494 &0.227 &0.034 &0.119 &0.011 \\\\\n",
      "    \\end{array}\\right)\n",
      "\\end{align*}\n",
      "\n",
      "R^{ 0 } = 0.073, 0.087, 0.778, 0.186, 1.178, 0.417, 1.996, 1.351,\n",
      "\n",
      "\\begin{align*}\n",
      "    P^{ 1 }=\\left(\n",
      "    \\begin{array}{cccccccc}\n",
      "       0.011 &0.124 &0.006 &0.131 &0.224 &0.070 &0.241 &0.191 \\\\\n",
      "       0.071 &0.138 &0.033 &0.023 &0.045 &0.250 &0.339 &0.101 \\\\\n",
      "       0.093 &0.113 &0.056 &0.061 &0.109 &0.351 &0.157 &0.059 \\\\\n",
      "       0.158 &0.176 &0.151 &0.150 &0.060 &0.142 &0.053 &0.109 \\\\\n",
      "       0.370 &0.185 &0.261 &0.020 &0.022 &0.064 &0.047 &0.030 \\\\\n",
      "       0.199 &0.139 &0.099 &0.050 &0.141 &0.104 &0.082 &0.187 \\\\\n",
      "       0.214 &0.088 &0.011 &0.075 &0.295 &0.174 &0.075 &0.068 \\\\\n",
      "       0.028 &0.157 &0.126 &0.078 &0.039 &0.127 &0.376 &0.069 \\\\\n",
      "    \\end{array}\\right)\n",
      "\\end{align*}\n",
      "\n",
      "R^{ 1 } = 0.059, 3.212, 1.817, 0.302, 2.259, 0.067, 0.344, 0.172,\n",
      "\n",
      "0.377 , 3.273 , 0.846 , -0.116 , 0.802 ,  , -1.230 , -0.562 , \n",
      " order= [1 2 4 0 5 3 7 6]\n",
      "relaxed-value =  1.3884526169112752\n"
     ]
    }
   ],
   "source": [
    "print_bandit(bandit_lp.BanditRandom(number_of_states=8, number_of_actions=2, seed=3))\n"
   ]
  },
  {
   "cell_type": "code",
   "execution_count": 14,
   "id": "1d0b0afa-a299-430b-bf9a-2d3dc5473f5a",
   "metadata": {},
   "outputs": [
    {
     "data": {
      "text/plain": [
       "'1.123'"
      ]
     },
     "execution_count": 14,
     "metadata": {},
     "output_type": "execute_result"
    }
   ],
   "source": []
  },
  {
   "cell_type": "code",
   "execution_count": null,
   "id": "5d9be8da-be65-4a71-8b72-5c4d25f51fef",
   "metadata": {},
   "outputs": [],
   "source": []
  }
 ],
 "metadata": {
  "kernelspec": {
   "display_name": "Python 3 (ipykernel)",
   "language": "python",
   "name": "python3"
  },
  "language_info": {
   "codemirror_mode": {
    "name": "ipython",
    "version": 3
   },
   "file_extension": ".py",
   "mimetype": "text/x-python",
   "name": "python",
   "nbconvert_exporter": "python",
   "pygments_lexer": "ipython3",
   "version": "3.13.1"
  }
 },
 "nbformat": 4,
 "nbformat_minor": 5
}
